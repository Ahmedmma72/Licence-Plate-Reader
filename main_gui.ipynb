{
 "cells": [
  {
   "cell_type": "code",
   "execution_count": null,
   "metadata": {},
   "outputs": [],
   "source": [
    "import cv2\n",
    "import numpy as np\n",
    "from skimage import io\n",
    "from skimage.color import rgb2gray,rgba2rgb\n",
    "from skimage import img_as_ubyte\n",
    "import matplotlib.pyplot as plt\n",
    "import os\n",
    "import matplotlib.patches as mpatches\n",
    "from skimage.feature import blob_dog, blob_log, blob_doh, canny\n",
    "from skimage.morphology import binary_dilation, binary_erosion,binary_opening,binary_closing\n",
    "from skimage.color import label2rgb\n",
    "from skimage.measure import label, regionprops\n",
    "from skimage.morphology import erosion, dilation, opening, closing\n",
    "from skimage.feature import blob_dog, blob_log, blob_doh\n",
    "from skimage.filters import gaussian\n",
    "# import pytesseract\n",
    "# from PIL import Image\n",
    "# pytesseract.pytesseract.tesseract_cmd = r'C:\\Program Files\\Tesseract-OCR\\tesseract'\n",
    "import easyocr\n",
    "import tkinter as tk\n",
    "from PIL import Image, ImageTk\n",
    "from tkinter.filedialog import askopenfile,askopenfilename\n",
    "\n"
   ]
  },
  {
   "cell_type": "code",
   "execution_count": null,
   "metadata": {},
   "outputs": [],
   "source": [
    "def show_images(images, titles=None):\n",
    "    n_ims = len(images)\n",
    "    if titles is None:\n",
    "        titles = ['(%d)' % i for i in range(1, n_ims + 1)]\n",
    "    fig = plt.figure()\n",
    "    n = 1\n",
    "    for image, title in zip(images, titles):\n",
    "        a = fig.add_subplot(1, n_ims, n)\n",
    "        if image.ndim == 2:\n",
    "            plt.gray()\n",
    "        plt.imshow(image)\n",
    "        a.set_title(title)\n",
    "        plt.axis('off')\n",
    "        n += 1\n",
    "    fig.set_size_inches(np.array(fig.get_size_inches()) * n_ims)\n",
    "    plt.show()\n"
   ]
  },
  {
   "cell_type": "code",
   "execution_count": null,
   "metadata": {},
   "outputs": [],
   "source": [
    "def isRect(contour):\n",
    "    (x, y, w, h) = cv2.boundingRect(contour)\n",
    "    a1 = cv2.contourArea(contour)\n",
    "    a2 = w*h\n",
    "    diff = abs(a1-a2)\n",
    "    return (diff < (0.5 * a2))\n"
   ]
  },
  {
   "cell_type": "code",
   "execution_count": null,
   "metadata": {},
   "outputs": [],
   "source": [
    "def preRatioCheck(width, height, img):\n",
    "    img_width = img.shape[1]\n",
    "    img_height = img.shape[0]\n",
    "    img_area = img_width * img_height\n",
    "    area = width*height\n",
    "    min = 0.002*img_area\n",
    "    max = 0.1*img_area\n",
    "\n",
    "    ratioMin = 3\n",
    "    ratioMax = 8\n",
    "\n",
    "    ratio = float(width) / float(height)\n",
    "\n",
    "    if (area < min or area > max) or (ratio < ratioMin or ratio > ratioMax):\n",
    "        return False\n",
    "    return True\n",
    "\n",
    "\n",
    "def validateRatio(rect, img):\n",
    "    (x, y), (width, height), rect_angle = rect\n",
    "    if rect_angle >= 45:\n",
    "        (width, height) = (height, width)\n",
    "    if (height == 0 or width == 0):\n",
    "        return False\n",
    "    if not preRatioCheck(width, height, img):\n",
    "        return False\n",
    "    else:\n",
    "        return True"
   ]
  },
  {
   "cell_type": "code",
   "execution_count": null,
   "metadata": {},
   "outputs": [],
   "source": [
    "def preprocess(img):\n",
    "    img = cv2.cvtColor(img, cv2.COLOR_BGR2GRAY)\n",
    "    imgBlurred = cv2.GaussianBlur(img, (7, 7), 0)\n",
    "    sobelx = cv2.Sobel(imgBlurred, cv2.CV_8U, 1, 0, ksize=3)\n",
    "    ret2, threshold_img = cv2.threshold(\n",
    "        sobelx, 0, 255, cv2.THRESH_BINARY + cv2.THRESH_OTSU)\n",
    "    element = cv2.getStructuringElement(\n",
    "        shape=cv2.MORPH_RECT, ksize=(26, 3))\n",
    "    element2 = cv2.getStructuringElement(\n",
    "        shape=cv2.MORPH_RECT, ksize=(10, 3))\n",
    "    morph_n_thresholded_img = threshold_img.copy()\n",
    "    img_intermediate = morph_n_thresholded_img\n",
    "    cv2.morphologyEx(src=threshold_img, op=cv2.MORPH_CLOSE,\n",
    "                     kernel=element, dst=img_intermediate)\n",
    "    cv2.morphologyEx(src=img_intermediate, op=cv2.MORPH_OPEN,\n",
    "                     kernel=element2, dst=morph_n_thresholded_img)\n",
    "    return morph_n_thresholded_img\n"
   ]
  },
  {
   "cell_type": "code",
   "execution_count": null,
   "metadata": {},
   "outputs": [],
   "source": [
    "def fixRange(img):\n",
    "    max = np.amax(img)\n",
    "    if(max <= 1):\n",
    "        return img\n",
    "    else:\n",
    "        return img/255\n"
   ]
  },
  {
   "cell_type": "code",
   "execution_count": null,
   "metadata": {},
   "outputs": [],
   "source": [
    "def restoreRange(img):\n",
    "    max = np.amax(img)\n",
    "    if(max > 1):\n",
    "        return img\n",
    "    else:\n",
    "        return img*255"
   ]
  },
  {
   "cell_type": "code",
   "execution_count": null,
   "metadata": {},
   "outputs": [],
   "source": [
    "def getLicensePlate(processed_img, img):\n",
    "    contours, _ = cv2.findContours(processed_img, mode=cv2.RETR_EXTERNAL,\n",
    "                                   method=cv2.CHAIN_APPROX_NONE)\n",
    "    imgs = []\n",
    "    for contour in contours:\n",
    "        min_rect = cv2.minAreaRect(contour)\n",
    "        if validateRatio(min_rect, img) and isRect(contour):\n",
    "            x, y, w, h = cv2.boundingRect(contour)\n",
    "            after_validation_img = img[y:y + h, x:x + w]\n",
    "            imgs.append(after_validation_img)\n",
    "    return imgs\n"
   ]
  },
  {
   "cell_type": "code",
   "execution_count": null,
   "metadata": {},
   "outputs": [],
   "source": [
    "def getPlates():\n",
    "    plates = []\n",
    "    imagesWithPlates=[]\n",
    "    for file in os.listdir(os.fsencode(\"Images\")):\n",
    "        filename = os.fsdecode(file)\n",
    "        img = io.imread(\"./Images/\" + filename)\n",
    "        result = []\n",
    "        processed_img = preprocess(img)\n",
    "        result += getLicensePlate(processed_img, img)\n",
    "        plates += result\n",
    "        for i in range(len(result)):\n",
    "            imagesWithPlates.append(filename)\n",
    "    return plates,imagesWithPlates"
   ]
  },
  {
   "cell_type": "code",
   "execution_count": null,
   "metadata": {},
   "outputs": [],
   "source": [
    "#test get plates\n",
    "plates,imagesWithPlates=getPlates()\n",
    "print(len(plates))"
   ]
  },
  {
   "cell_type": "code",
   "execution_count": null,
   "metadata": {},
   "outputs": [],
   "source": [
    "\n",
    "def find_end(start,width,black,segmentation_spacing):\n",
    "    end = start + 1\n",
    "    black_max = max(black)\n",
    "    for m in range(start + 1, width - 1):\n",
    "        if(black[m] > segmentation_spacing * black_max):\n",
    "            end = m\n",
    "            break\n",
    "    return end"
   ]
  },
  {
   "cell_type": "code",
   "execution_count": null,
   "metadata": {},
   "outputs": [],
   "source": [
    "def segmentChars(img,segmentation_spacing):\n",
    "\n",
    "    img = restoreRange(img)\n",
    "    img = np.array(img, dtype=np.uint8)\n",
    "    gray = cv2.cvtColor(img, cv2.COLOR_RGB2GRAY)\n",
    "    ret, img_threshold = cv2.threshold(gray, 100, 255, cv2.THRESH_BINARY_INV)\n",
    "\n",
    "    white = []  # Record the sum of white pixels in each column\n",
    "    black = []  # Record the sum of black pixels in each column\n",
    "    height = img_threshold.shape[0]\n",
    "    width = img_threshold.shape[1]\n",
    "\n",
    "    for i in range(width):\n",
    "        white_count = 0\n",
    "        black_count = 0\n",
    "        for j in range(height):\n",
    "            if img_threshold[j][i] == 255:\n",
    "                white_count += 1\n",
    "            else:\n",
    "                black_count += 1\n",
    "\n",
    "        white.append(white_count)\n",
    "        black.append(black_count)\n",
    "\n",
    "    white_max = max(white) \n",
    "    n = 1\n",
    "    chars=[]\n",
    "    while n < width - 1:\n",
    "        n += 1\n",
    "        if(white[n] > (1 - segmentation_spacing) * white_max):\n",
    "            start = n\n",
    "            end = find_end(start,width,black,segmentation_spacing)\n",
    "            n = end\n",
    "            if end - start > 5:\n",
    "                character = img[1:height, start:end]\n",
    "                chars.append(character)      \n",
    "    return chars                  "
   ]
  },
  {
   "cell_type": "code",
   "execution_count": null,
   "metadata": {},
   "outputs": [],
   "source": [
    "#test segmentation of characters for one of the plate\n",
    "plates,imagesWithPlates = getPlates()\n",
    "chars=segmentChars(plates[0],0.93)\n",
    "print(len(chars))\n",
    "show_images(chars)"
   ]
  },
  {
   "cell_type": "code",
   "execution_count": null,
   "metadata": {},
   "outputs": [],
   "source": [
    "#takes array of images of characters return a string of those characters\n",
    "def getCharAsString(CharImages):\n",
    "    reader = easyocr.Reader(['en'])\n",
    "    length = len(CharImages)\n",
    "    string = \"\"\n",
    "    for i in range(length):\n",
    "        filename = \"{}.jpg\".format(os.getpid())\n",
    "        cv2.imwrite(filename, CharImages[i])\n",
    "        char=reader.readtext(filename, detail = 0)\n",
    "        os.remove(filename)\n",
    "        for i in range(len(char)): \n",
    "            string+=char[i]   \n",
    "    return string        "
   ]
  },
  {
   "cell_type": "code",
   "execution_count": null,
   "metadata": {},
   "outputs": [],
   "source": [
    "#This Should not be dileverd it is just for testing\n",
    "#takes image return text inside\n",
    "def getTextFromImage(image):\n",
    "    reader = easyocr.Reader(['en'])\n",
    "    filename = \"{}.jpg\".format(os.getpid())\n",
    "    image=restoreRange(image)\n",
    "    cv2.imwrite(filename, image)\n",
    "    string=reader.readtext(filename, detail = 0)\n",
    "    os.remove(filename)\n",
    "    return string  "
   ]
  },
  {
   "cell_type": "code",
   "execution_count": null,
   "metadata": {},
   "outputs": [],
   "source": [
    "#test getCharAsString \n",
    "plates,imagesWithPlates = getPlates()\n",
    "length=len(plates)\n",
    "for i in range(length):\n",
    "    chars=segmentChars(plates[i],0.93)\n",
    "    string= getCharAsString(chars)\n",
    "    if  string:\n",
    "        print(\"from image {} a licence plate with numbers {} was found\".format(imagesWithPlates[i], string))\n"
   ]
  },
  {
   "cell_type": "code",
   "execution_count": null,
   "metadata": {},
   "outputs": [],
   "source": [
    "#This Should not be dileverd it is just for testing\n",
    "#test getCharAsString \n",
    "plates,imagesWithPlates = getPlates()\n",
    "length=len(plates)\n",
    "for i in range(length):\n",
    "    string= getTextFromImage(plates[i])\n",
    "    if  string:\n",
    "        print(\"from image {} a licence plate with numbers {} was found\".format(imagesWithPlates[i], string))"
   ]
  },
  {
   "cell_type": "code",
   "execution_count": null,
   "metadata": {},
   "outputs": [],
   "source": [
    "def open_file():\n",
    "    browse_text.set(\"loading...\")\n",
    "    imgpath = askopenfilename(parent=root, title=\"Choose an Image\", filetypes=[(\"Images\", \".png .jpeg\")])\n",
    "    if imgpath:\n",
    "        img = io.imread(imgpath)\n",
    "        plates = []\n",
    "        processed_img = preprocess(img)\n",
    "        plates += getLicensePlate(processed_img, img)\n",
    "        for i in range(len(plates)):\n",
    "            chars=segmentChars(plates[i],0.93)\n",
    "            string= getCharAsString(chars)\n",
    "            #text box\n",
    "            if string:\n",
    "               string=\"a licence plate with numbers \"+ string + \" was found \\n\"\n",
    "               print(string)\n",
    "               text_box = tk.Text(root, height=10, width=50, padx=15, pady=15)\n",
    "               text_box.insert(float(i), string)\n",
    "               text_box.tag_configure(\"center\", justify=\"center\")\n",
    "               text_box.tag_add(\"center\", 1.0, \"end\")\n",
    "               text_box.grid(column=1, row=3)\n",
    "        browse_text.set(\"Browse\")"
   ]
  },
  {
   "cell_type": "code",
   "execution_count": null,
   "metadata": {},
   "outputs": [],
   "source": [
    "root = tk.Tk()\n",
    "canvas = tk.Canvas(root, width=600, height=300)\n",
    "canvas.grid(columnspan=3, rowspan=3)\n",
    "#logo\n",
    "logo = Image.open('logo.png')\n",
    "logo = ImageTk.PhotoImage(logo)\n",
    "logo_label = tk.Label(image=logo)\n",
    "logo_label.image = logo\n",
    "logo_label.grid(column=1, row=0)\n",
    "\n",
    "#instructions\n",
    "instructions = tk.Label(root, text=\"Select an image from your computer\", font=\"Raleway\")\n",
    "instructions.grid(columnspan=3, column=0, row=1)\n",
    "\n",
    "\n",
    "#browse button\n",
    "browse_text = tk.StringVar()\n",
    "browse_btn = tk.Button(root, textvariable=browse_text, command=lambda:open_file(), font=\"Raleway\", bg=\"#20bebe\", fg=\"white\", height=2, width=15)\n",
    "browse_text.set(\"Browse\")\n",
    "browse_btn.grid(column=1, row=2)\n",
    "\n",
    "\n",
    "canvas = tk.Canvas(root, width=600, height=250)\n",
    "canvas.grid(columnspan=3)\n",
    "\n",
    "root.mainloop()\n"
   ]
  }
 ],
 "metadata": {
  "interpreter": {
   "hash": "dfdc534f9d079ae759dd31998cbdb64fa0f5664494eaf9e34555103a4b77eae0"
  },
  "kernelspec": {
   "display_name": "Python 3",
   "language": "python",
   "name": "python3"
  },
  "language_info": {
   "codemirror_mode": {
    "name": "ipython",
    "version": 3
   },
   "file_extension": ".py",
   "mimetype": "text/x-python",
   "name": "python",
   "nbconvert_exporter": "python",
   "pygments_lexer": "ipython3",
   "version": "3.9.6"
  }
 },
 "nbformat": 4,
 "nbformat_minor": 2
}
