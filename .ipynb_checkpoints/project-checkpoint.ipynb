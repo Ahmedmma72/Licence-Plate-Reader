{
 "cells": [
  {
   "cell_type": "code",
   "execution_count": null,
   "metadata": {},
   "outputs": [],
   "source": [
    "import cv2\n",
    "import numpy as np\n",
    "from skimage import io\n",
    "import matplotlib.pyplot as plt\n",
    "import os\n"
   ]
  },
  {
   "cell_type": "code",
   "execution_count": null,
   "metadata": {},
   "outputs": [],
   "source": [
    "def show_images(images, titles=None):\n",
    "    n_ims = len(images)\n",
    "    if titles is None:\n",
    "        titles = ['(%d)' % i for i in range(1, n_ims + 1)]\n",
    "    fig = plt.figure()\n",
    "    n = 1\n",
    "    for image, title in zip(images, titles):\n",
    "        a = fig.add_subplot(1, n_ims, n)\n",
    "        if image.ndim == 2:\n",
    "            plt.gray()\n",
    "        plt.imshow(image)\n",
    "        a.set_title(title)\n",
    "        plt.axis('off')\n",
    "        n += 1\n",
    "    fig.set_size_inches(np.array(fig.get_size_inches()) * n_ims)\n",
    "    plt.show()\n"
   ]
  },
  {
   "cell_type": "code",
   "execution_count": null,
   "metadata": {},
   "outputs": [],
   "source": [
    "def isRect(contour):\n",
    "    (x, y, w, h) = cv2.boundingRect(contour)\n",
    "    a1 = cv2.contourArea(contour)\n",
    "    a2 = w*h\n",
    "    diff = abs(a1-a2)\n",
    "    return (diff < (0.5 * a2))"
   ]
  },
  {
   "cell_type": "code",
   "execution_count": null,
   "metadata": {},
   "outputs": [],
   "source": [
    "def preRatioCheck(width, height, img):\n",
    "    img_width = img.shape[1]\n",
    "    img_height = img.shape[0]\n",
    "    img_area = img_width * img_height\n",
    "    area = width*height\n",
    "    min = 0.002*img_area\n",
    "    max = 0.1*img_area\n",
    "\n",
    "    ratioMin = 3\n",
    "    ratioMax = 8\n",
    "\n",
    "    ratio = float(width) / float(height)\n",
    "\n",
    "    if (area < min or area > max) or (ratio < ratioMin or ratio > ratioMax):\n",
    "        return False\n",
    "    return True\n",
    "\n",
    "\n",
    "def validateRatio(rect, img):\n",
    "    (x, y), (width, height), rect_angle = rect\n",
    "    if rect_angle >= 45:\n",
    "        (width, height) = (height, width)\n",
    "    if (height == 0 or width == 0):\n",
    "        return False\n",
    "    if not preRatioCheck(width, height, img):\n",
    "        return False\n",
    "    else:\n",
    "        return True\n"
   ]
  },
  {
   "cell_type": "code",
   "execution_count": null,
   "metadata": {},
   "outputs": [],
   "source": [
    "def preprocess(img):\n",
    "    img = cv2.cvtColor(img, cv2.COLOR_BGR2GRAY)\n",
    "    imgBlurred = cv2.GaussianBlur(img, (7, 7), 0)\n",
    "    sobelx = cv2.Sobel(imgBlurred, cv2.CV_8U, 1, 0, ksize=3)\n",
    "    ret2, threshold_img = cv2.threshold(\n",
    "        sobelx, 0, 255, cv2.THRESH_BINARY + cv2.THRESH_OTSU)\n",
    "    element = cv2.getStructuringElement(\n",
    "        shape=cv2.MORPH_RECT, ksize=(26, 3))\n",
    "    element2 = cv2.getStructuringElement(\n",
    "        shape=cv2.MORPH_RECT, ksize=(10, 3))\n",
    "    morph_n_thresholded_img = threshold_img.copy()\n",
    "    img_intermediate = morph_n_thresholded_img\n",
    "    cv2.morphologyEx(src=threshold_img, op=cv2.MORPH_CLOSE,\n",
    "                     kernel=element, dst=img_intermediate)\n",
    "    cv2.morphologyEx(src=img_intermediate, op=cv2.MORPH_OPEN,\n",
    "                     kernel=element2, dst=morph_n_thresholded_img)\n",
    "    return morph_n_thresholded_img\n"
   ]
  },
  {
   "cell_type": "code",
   "execution_count": null,
   "metadata": {},
   "outputs": [],
   "source": [
    "def getLicensePlate(processed_img, img):\n",
    "    contours, _ = cv2.findContours(processed_img, mode=cv2.RETR_EXTERNAL,\n",
    "                                   method=cv2.CHAIN_APPROX_NONE)\n",
    "    imgs = []\n",
    "    for contour in contours:\n",
    "        min_rect = cv2.minAreaRect(contour)\n",
    "        if validateRatio(min_rect, img) and isRect(contour):\n",
    "            x, y, w, h = cv2.boundingRect(contour)\n",
    "            after_validation_img = img[y:y + h, x:x + w]\n",
    "            imgs.append(after_validation_img)\n",
    "    return imgs\n"
   ]
  },
  {
   "cell_type": "code",
   "execution_count": null,
   "metadata": {},
   "outputs": [],
   "source": [
    "plates = []\n",
    "for file in os.listdir(os.fsencode(\"closeCars\")):\n",
    "    filename = os.fsdecode(file)\n",
    "    img = io.imread(\"./closeCars/\" + filename)\n",
    "    processed_img = preprocess(img)\n",
    "    plates += getLicensePlate(processed_img, img)\n",
    "\n",
    "show_images(plates)\n"
   ]
  },
  {
   "cell_type": "code",
   "execution_count": null,
   "metadata": {},
   "outputs": [],
   "source": [
    "plates = []\n",
    "for file in os.listdir(os.fsencode(\"farCars\")):\n",
    "    filename = os.fsdecode(file)\n",
    "    img = io.imread(\"./farCars/\" + filename)\n",
    "    processed_img = preprocess(img)\n",
    "    plates += getLicensePlate(processed_img, img)\n",
    "\n",
    "show_images(plates[:10])"
   ]
  },
  {
   "cell_type": "code",
   "execution_count": null,
   "metadata": {},
   "outputs": [],
   "source": []
  }
 ],
 "metadata": {
  "interpreter": {
   "hash": "dfdc534f9d079ae759dd31998cbdb64fa0f5664494eaf9e34555103a4b77eae0"
  },
  "kernelspec": {
   "display_name": "Python 3",
   "language": "python",
   "name": "python3"
  },
  "language_info": {
   "codemirror_mode": {
    "name": "ipython",
    "version": 3
   },
   "file_extension": ".py",
   "mimetype": "text/x-python",
   "name": "python",
   "nbconvert_exporter": "python",
   "pygments_lexer": "ipython3",
   "version": "3.8.8"
  }
 },
 "nbformat": 4,
 "nbformat_minor": 2
}
