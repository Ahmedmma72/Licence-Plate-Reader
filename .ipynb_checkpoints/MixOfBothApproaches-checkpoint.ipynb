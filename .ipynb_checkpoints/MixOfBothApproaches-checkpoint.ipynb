{
 "cells": [
  {
   "cell_type": "code",
   "execution_count": null,
   "metadata": {},
   "outputs": [],
   "source": [
    "import cv2\n",
    "import numpy as np\n",
    "from skimage import io\n",
    "from skimage.color import rgb2gray,rgba2rgb\n",
    "from skimage import img_as_ubyte\n",
    "import matplotlib.pyplot as plt\n",
    "import os\n",
    "import matplotlib.patches as mpatches\n",
    "from skimage.feature import blob_dog, blob_log, blob_doh, canny\n",
    "from skimage.morphology import binary_dilation, binary_erosion,binary_opening,binary_closing\n",
    "from skimage.color import label2rgb\n",
    "from skimage.measure import label, regionprops\n",
    "from skimage.morphology import erosion, dilation, opening, closing\n",
    "from skimage.feature import blob_dog, blob_log, blob_doh\n",
    "from skimage.filters import gaussian\n",
    "import imutils\n",
    "#import easyocr\n"
   ]
  },
  {
   "cell_type": "code",
   "execution_count": null,
   "metadata": {},
   "outputs": [],
   "source": [
    "def show_images(images, titles=None):\n",
    "    n_ims = len(images)\n",
    "    if titles is None:\n",
    "        titles = ['(%d)' % i for i in range(1, n_ims + 1)]\n",
    "    fig = plt.figure()\n",
    "    n = 1\n",
    "    for image, title in zip(images, titles):\n",
    "        a = fig.add_subplot(1, n_ims, n)\n",
    "        if image.ndim == 2:\n",
    "            plt.gray()\n",
    "        plt.imshow(image)\n",
    "        a.set_title(title)\n",
    "        plt.axis('off')\n",
    "        n += 1\n",
    "    fig.set_size_inches(np.array(fig.get_size_inches()) * n_ims)\n",
    "    plt.show()\n"
   ]
  },
  {
   "cell_type": "code",
   "execution_count": null,
   "metadata": {},
   "outputs": [],
   "source": [
    "def isRect(contour):\n",
    "    (x, y, w, h) = cv2.boundingRect(contour)\n",
    "    a1 = cv2.contourArea(contour)\n",
    "    a2 = w*h\n",
    "    diff = abs(a1-a2)\n",
    "    return (diff < (0.35 * a1))\n"
   ]
  },
  {
   "cell_type": "code",
   "execution_count": null,
   "metadata": {},
   "outputs": [],
   "source": [
    "def preprocess(img):\n",
    "    gray = None\n",
    "    if img.shape[2] == 4:\n",
    "        gray = rgb2gray(rgba2rgb(img))\n",
    "    else:\n",
    "        gray = rgb2gray(img)\n",
    "    gfilter = gaussian(gray)\n",
    "    gfilter[gfilter < 0.5] = 0\n",
    "    gfilter[gfilter > 0.5] = 1\n",
    "    edged = canny(gfilter)\n",
    "    return dilation(edged)\n"
   ]
  },
  {
   "cell_type": "code",
   "execution_count": null,
   "metadata": {},
   "outputs": [],
   "source": [
    "def preprocess2(img):\n",
    "    gray = None\n",
    "    if img.shape[2] == 4:\n",
    "        gray = rgb2gray(rgba2rgb(img))\n",
    "    else:\n",
    "        gray = rgb2gray(img)\n",
    "    gray[gray<0.5]=0\n",
    "    gray[gray>0.5]=1\n",
    "    edged=canny(gray)\n",
    "    return binary_closing(edged)"
   ]
  },
  {
   "cell_type": "code",
   "execution_count": null,
   "metadata": {},
   "outputs": [],
   "source": [
    "def preprocess3(img):\n",
    "    gray = None\n",
    "    if img.shape[2] == 4:\n",
    "        gray = rgb2gray(rgba2rgb(img))\n",
    "    else:\n",
    "        gray = rgb2gray(img)\n",
    "    gray[gray<0.5]=0\n",
    "    gray[gray>0.5]=1\n",
    "    edged=canny(gray)\n",
    "    return binary_closing(edged)"
   ]
  },
  {
   "cell_type": "code",
   "execution_count": null,
   "metadata": {},
   "outputs": [],
   "source": [
    "def fixRange(img):\n",
    "    max = np.amax(img)\n",
    "    if(max <= 1):\n",
    "        return img\n",
    "    else:\n",
    "        return img/255\n"
   ]
  },
  {
   "cell_type": "code",
   "execution_count": null,
   "metadata": {},
   "outputs": [],
   "source": [
    "def restoreRange(img):\n",
    "    max = np.amax(img)\n",
    "    if(max > 1):\n",
    "        return img\n",
    "    else:\n",
    "        return img*255"
   ]
  },
  {
   "cell_type": "code",
   "execution_count": null,
   "metadata": {},
   "outputs": [],
   "source": [
    "def getLicensePlate(processed_img, original_img):\n",
    "    contours, _ = cv2.findContours(img_as_ubyte(processed_img), mode=cv2.RETR_EXTERNAL,\n",
    "                                   method=cv2.CHAIN_APPROX_NONE)\n",
    "    possible_plates = []\n",
    "    for contour in contours:\n",
    "        (x, y, w, h) = cv2.boundingRect(contour)\n",
    "        if w/h < 7 and w/h > 1.5 and isRect(contour):\n",
    "            subImage = original_img[y:y + h, x:x + w]\n",
    "            possible_plates.append(subImage)\n",
    "    return possible_plates\n"
   ]
  },
  {
   "cell_type": "code",
   "execution_count": null,
   "metadata": {},
   "outputs": [],
   "source": [
    "def getPlates():\n",
    "    plates = []\n",
    "    for file in os.listdir(os.fsencode(\"closeCars\")):\n",
    "        filename = os.fsdecode(file)\n",
    "        img = io.imread(\"./closeCars/\" + filename)\n",
    "        img = fixRange(img)\n",
    "        result = []\n",
    "        processed_img = preprocess(img)\n",
    "        result += getLicensePlate(processed_img, img)\n",
    "        if len(result) < 1:\n",
    "            processed_img = preprocess2(img)\n",
    "            result += getLicensePlate(processed_img, img)\n",
    "        if len(result) < 1:\n",
    "            processed_img = preprocess3(img)\n",
    "            result += getLicensePlate(processed_img, img)\n",
    "        plates += result\n",
    "\n",
    "    show_images(plates)\n",
    "    return plates"
   ]
  },
  {
   "cell_type": "code",
   "execution_count": null,
   "metadata": {},
   "outputs": [],
   "source": [
    "\n",
    "def find_end(start,width,black,segmentation_spacing):\n",
    "    end = start + 1\n",
    "    black_max = max(black)\n",
    "    for m in range(start + 1, width - 1):\n",
    "        if(black[m] > segmentation_spacing * black_max):\n",
    "            end = m\n",
    "            break\n",
    "    return end"
   ]
  },
  {
   "cell_type": "code",
   "execution_count": null,
   "metadata": {},
   "outputs": [],
   "source": [
    "def segmentChars(img,segmentation_spacing):\n",
    "\n",
    "    img = restoreRange(img)\n",
    "    img = np.array(img, dtype=np.uint8)\n",
    "    gray = cv2.cvtColor(img, cv2.COLOR_RGB2GRAY)\n",
    "    ret, img_threshold = cv2.threshold(gray, 100, 255, cv2.THRESH_BINARY_INV)\n",
    "\n",
    "    white = []  # Record the sum of white pixels in each column\n",
    "    black = []  # Record the sum of black pixels in each column\n",
    "    height = img_threshold.shape[0]\n",
    "    width = img_threshold.shape[1]\n",
    "\n",
    "    for i in range(width):\n",
    "        white_count = 0\n",
    "        black_count = 0\n",
    "        for j in range(height):\n",
    "            if img_threshold[j][i] == 255:\n",
    "                white_count += 1\n",
    "            else:\n",
    "                black_count += 1\n",
    "\n",
    "        white.append(white_count)\n",
    "        black.append(black_count)\n",
    "\n",
    "    white_max = max(white) \n",
    "    n = 1\n",
    "    chars=[]\n",
    "    while n < width - 1:\n",
    "        n += 1\n",
    "        if(white[n] > (1 - segmentation_spacing) * white_max):\n",
    "            start = n\n",
    "            end = find_end(start,width,black,segmentation_spacing)\n",
    "            n = end\n",
    "            if end - start > 5:\n",
    "                character = img_threshold[1:height, start:end]\n",
    "                chars.append(character)      \n",
    "    return chars                  "
   ]
  },
  {
   "cell_type": "code",
   "execution_count": null,
   "metadata": {},
   "outputs": [],
   "source": [
    "#try approach 1\n",
    "plates = getPlates()\n",
    "# length=len(plates)\n",
    "# for i in range(length):\n",
    "#     chars=segmentChars(plates[i],0.9)\n",
    "#     show_images(chars)\n",
    "chars=segmentChars(plates[7],0.935)\n",
    "show_images(chars)"
   ]
  },
  {
   "cell_type": "code",
   "execution_count": null,
   "metadata": {},
   "outputs": [],
   "source": [
    "def getCharAsString(CharImages):\n",
    "    reader = easyocr.Reader(['en'])\n",
    "    length = len(CharImages)\n",
    "    string = \"\"\n",
    "    for i in range(length):\n",
    "        chars=reader.readtext(CharImages[i], detail = 0)\n",
    "        print(chars)\n",
    "        lengthOfChars= len(chars)\n",
    "        for i in range(lengthOfChars): \n",
    "            string+=chars[i]\n",
    "    return string        "
   ]
  },
  {
   "cell_type": "code",
   "execution_count": null,
   "metadata": {},
   "outputs": [],
   "source": [
    "plates = getPlates()\n",
    "# length=len(plates)\n",
    "# for i in range(length):\n",
    "#     chars=segmentChars(plates[i],0.9)\n",
    "#     show_images(chars)\n",
    "chars=segmentChars(plates[7],0.935)\n",
    "string= getCharAsString(chars)\n",
    "print(string)"
   ]
  },
  {
   "cell_type": "code",
   "execution_count": null,
   "metadata": {},
   "outputs": [],
   "source": []
  }
 ],
 "metadata": {
  "interpreter": {
   "hash": "dfdc534f9d079ae759dd31998cbdb64fa0f5664494eaf9e34555103a4b77eae0"
  },
  "kernelspec": {
   "display_name": "Python 3",
   "language": "python",
   "name": "python3"
  },
  "language_info": {
   "codemirror_mode": {
    "name": "ipython",
    "version": 3
   },
   "file_extension": ".py",
   "mimetype": "text/x-python",
   "name": "python",
   "nbconvert_exporter": "python",
   "pygments_lexer": "ipython3",
   "version": "3.8.8"
  }
 },
 "nbformat": 4,
 "nbformat_minor": 2
}
